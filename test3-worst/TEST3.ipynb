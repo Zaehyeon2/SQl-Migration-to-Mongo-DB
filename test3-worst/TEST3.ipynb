{
 "cells": [
  {
   "cell_type": "code",
   "execution_count": 1,
   "metadata": {},
   "outputs": [],
   "source": [
    "import os\n",
    "import cx_Oracle\n",
    "import json\n",
    "from pprint import pprint\n",
    "import pymongo\n",
    "from bson.objectid import ObjectId"
   ]
  },
  {
   "cell_type": "markdown",
   "metadata": {},
   "source": [
    "### Connection"
   ]
  },
  {
   "cell_type": "code",
   "execution_count": 2,
   "metadata": {},
   "outputs": [],
   "source": [
    "# 한글 지원 방법\n",
    "os.putenv('NLS_LANG', '.UTF8')\n",
    "\n",
    "# MongoDB Connection\n",
    "connection = pymongo.MongoClient(\"localhost\", 27017)\n",
    "db = connection.TEST3\n",
    "\n",
    "# OracleDB Connection\n",
    "oconnection = cx_Oracle.connect('system/oracle@0.0.0.0:1521')\n",
    "cursor = oconnection.cursor()"
   ]
  },
  {
   "cell_type": "markdown",
   "metadata": {},
   "source": [
    "### Init"
   ]
  },
  {
   "cell_type": "code",
   "execution_count": 3,
   "metadata": {},
   "outputs": [],
   "source": [
    "instructordb = db['INSTRUCTOR']\n",
    "studentdb = db['STUDENT']\n",
    "takesdb = db['TAKES']\n",
    "sectiondb = db['SECTION']\n",
    "coursedb = db['COURSE']\n",
    "\n",
    "# collection 초기화\n",
    "instructordb.delete_many({})\n",
    "studentdb.delete_many({})\n",
    "takesdb.delete_many({})\n",
    "sectiondb.delete_many({})\n",
    "coursedb.delete_many({})\n",
    "\n",
    "# embedding 하기 위한 dictionary\n",
    "department = {}\n",
    "classroom = {}\n",
    "time_slot = {}\n",
    "\n",
    "# collection 저장 배열\n",
    "instructor = []\n",
    "student = []\n",
    "takes = []\n",
    "section = []\n",
    "course = []"
   ]
  },
  {
   "cell_type": "markdown",
   "metadata": {},
   "source": [
    "### Embedding - department"
   ]
  },
  {
   "cell_type": "code",
   "execution_count": 4,
   "metadata": {},
   "outputs": [],
   "source": [
    "cursor.execute(\"\"\"\n",
    "    select * from DEPARTMENT\n",
    "\"\"\")\n",
    "\n",
    "for token in cursor:\n",
    "    dept_name = token[0]\n",
    "    building = token[1]\n",
    "    budget = float(token[2])\n",
    "    \n",
    "    # dictionary에 key(dept_name) - value(dept_name, building, budget) 쌍으로 저장\n",
    "    department[dept_name] = {\n",
    "        'dept_name': dept_name,\n",
    "        'building': building,\n",
    "        'budget': budget\n",
    "    }"
   ]
  },
  {
   "cell_type": "markdown",
   "metadata": {},
   "source": [
    "### Embedding - classroom"
   ]
  },
  {
   "cell_type": "code",
   "execution_count": 5,
   "metadata": {},
   "outputs": [],
   "source": [
    "cursor.execute(\"\"\"\n",
    "    select * from CLASSROOM\n",
    "\"\"\")\n",
    "\n",
    "for token in cursor:\n",
    "    building = token[0]\n",
    "    roomnumber = token[1]\n",
    "    capacity = int(token[2])\n",
    "    \n",
    "    # dictionary에 key(buliding) - key(roomnumber) - value(dept_name, building, budget) 쌍으로 저장\n",
    "    if building in classroom.keys():\n",
    "        classroom[building][roomnumber] = {\n",
    "            'building': building,\n",
    "            'room_number': roomnumber,\n",
    "            'capacity': capacity\n",
    "        }\n",
    "    else:\n",
    "        classroom[building] = dict()\n",
    "        classroom[building][roomnumber] = {\n",
    "            'building': building,\n",
    "            'room_number': roomnumber,\n",
    "            'capacity': capacity\n",
    "        }"
   ]
  },
  {
   "cell_type": "markdown",
   "metadata": {},
   "source": [
    "### Embedding - time_slot"
   ]
  },
  {
   "cell_type": "code",
   "execution_count": 6,
   "metadata": {},
   "outputs": [],
   "source": [
    "cursor.execute(\"\"\"\n",
    "    select * from TIME_SLOT\n",
    "\"\"\")\n",
    "\n",
    "for token in cursor:\n",
    "    time_slot_id = token[0]\n",
    "    day = token[1]\n",
    "    start_hour = token[2]\n",
    "    start_min = token[3]\n",
    "    end_hour = token[4]\n",
    "    end_min = token[5]\n",
    "    # dictionry에 key(time_slot_id) - value() 쌍으로 저장\n",
    "    time_slot[time_slot_id] = {\n",
    "        'day': day,\n",
    "        'start_hour': token[2],\n",
    "        'start_min': token[3],\n",
    "        'end_hour': token[4],\n",
    "        'end_min': token[5]\n",
    "    }"
   ]
  },
  {
   "cell_type": "markdown",
   "metadata": {},
   "source": [
    "### Collections"
   ]
  },
  {
   "cell_type": "code",
   "execution_count": 7,
   "metadata": {},
   "outputs": [],
   "source": [
    "cursor.execute(\"\"\"\n",
    "    select * from INSTRUCTOR\n",
    "\"\"\")\n",
    "\n",
    "for token in cursor:\n",
    "    ID = token[0]\n",
    "    Name = token[1]\n",
    "    dept_name = token[2]\n",
    "    salary = float(token[3])\n",
    "    Json = {\n",
    "        'ID': ID,\n",
    "        'name': Name,\n",
    "        'salary': int(salary),\n",
    "        'department': department[dept_name],\n",
    "        'advisor': ''\n",
    "    }\n",
    "    instructor.append(Json)"
   ]
  },
  {
   "cell_type": "code",
   "execution_count": 8,
   "metadata": {},
   "outputs": [],
   "source": [
    "cursor.execute(\"\"\"\n",
    "    select * from STUDENT\n",
    "\"\"\")\n",
    "\n",
    "for token in cursor:\n",
    "    ID = token[0]\n",
    "    Name = token[1]\n",
    "    dept_name = token[2]\n",
    "    tot_credit = int(token[3])\n",
    "    Json = {\n",
    "        'ID': ID,\n",
    "        'name': Name,\n",
    "        'tot_credit': tot_credit,\n",
    "        'department': department[dept_name],\n",
    "        'advisor': ''\n",
    "    }\n",
    "    student.append(Json)"
   ]
  },
  {
   "cell_type": "code",
   "execution_count": 9,
   "metadata": {},
   "outputs": [],
   "source": [
    "cursor.execute(\"\"\"\n",
    "    select * from SECTION\n",
    "\"\"\")\n",
    "\n",
    "for token in cursor:\n",
    "    course_id = token[0]\n",
    "    section_id = token[1]\n",
    "    semester = token[2]\n",
    "    year = int(token[3])\n",
    "    building = token[4]\n",
    "    roomnumber = token[5]\n",
    "    time_slot_id = token[6]\n",
    "    Json = {\n",
    "        'course_id': course_id,\n",
    "        'section_id': section_id,\n",
    "        'semester': semester,\n",
    "        'year': year,\n",
    "        'time_slot': [],\n",
    "        'classroom': classroom[building][roomnumber]\n",
    "    }\n",
    "    if time_slot_id in time_slot.keys():\n",
    "        Json['time_slot'] = time_slot[time_slot_id]\n",
    "    section.append(Json)"
   ]
  },
  {
   "cell_type": "code",
   "execution_count": 10,
   "metadata": {},
   "outputs": [],
   "source": [
    "cursor.execute(\"\"\"\n",
    "    select * from COURSE\n",
    "\"\"\")\n",
    "\n",
    "for token in cursor:\n",
    "    course_id = token[0]\n",
    "    title = token[1]\n",
    "    dept_name = token[2]\n",
    "    credits = int(token[3])\n",
    "    Json = {\n",
    "        'course_id': course_id,\n",
    "        'title': title,\n",
    "        'credits': credits,\n",
    "        'department': department[dept_name],\n",
    "        'prereq': [],\n",
    "    }\n",
    "    course.append(Json)"
   ]
  },
  {
   "cell_type": "markdown",
   "metadata": {},
   "source": [
    "### Embedded 저장"
   ]
  },
  {
   "cell_type": "code",
   "execution_count": 11,
   "metadata": {},
   "outputs": [
    {
     "data": {
      "text/plain": [
       "<pymongo.results.InsertManyResult at 0x10d4bbd48>"
      ]
     },
     "execution_count": 11,
     "metadata": {},
     "output_type": "execute_result"
    }
   ],
   "source": [
    "instructordb.insert_many(instructor)\n",
    "studentdb.insert_many(student)\n",
    "sectiondb.insert_many(section)\n",
    "coursedb.insert_many(course)"
   ]
  },
  {
   "cell_type": "markdown",
   "metadata": {},
   "source": [
    "### Linked"
   ]
  },
  {
   "cell_type": "code",
   "execution_count": 12,
   "metadata": {},
   "outputs": [],
   "source": [
    "cursor.execute(\"\"\"\n",
    "    select * from ADVISOR\n",
    "\"\"\")\n",
    "\n",
    "for token in cursor:\n",
    "    s_id = token[0]\n",
    "    i_id = token[1]\n",
    "\n",
    "    s_obi = studentdb.find_one({'ID': s_id})['_id']\n",
    "    i_obi = instructordb.find_one({'ID': i_id})['_id']\n",
    "\n",
    "    instructordb.update_one({'ID': i_id}, {'$set': {'advisor': s_obi}})\n",
    "    studentdb.update_one({'ID': s_id}, {'$set': {'advisor': i_obi}})"
   ]
  },
  {
   "cell_type": "code",
   "execution_count": 13,
   "metadata": {},
   "outputs": [],
   "source": [
    "cursor.execute(\"\"\"\n",
    "    select * from TAKES\n",
    "\"\"\")\n",
    "\n",
    "for token in cursor:\n",
    "    ID = token[0]\n",
    "    course_id = token[1]\n",
    "    sec_id = token[2]\n",
    "    seme = token[3]\n",
    "    year = int(token[4])\n",
    "    grade = token[5]\n",
    "\n",
    "    s_obi = studentdb.find_one({'ID': ID})['_id']\n",
    "\n",
    "    sec_obi = sectiondb.find_one(\n",
    "        {'course_id': course_id, 'section_id': sec_id, 'semester': seme, 'year': year})['_id']\n",
    "\n",
    "    Json = {\n",
    "        'section_id': sec_obi,\n",
    "        'student_id': s_obi,\n",
    "        'grade': grade\n",
    "    }\n",
    "    takesdb.insert_one(Json)"
   ]
  },
  {
   "cell_type": "code",
   "execution_count": 14,
   "metadata": {},
   "outputs": [],
   "source": [
    "cursor.execute(\"\"\"\n",
    "    select * from TEACHES\n",
    "\"\"\")\n",
    "\n",
    "for token in cursor:\n",
    "    i_id = token[0]\n",
    "    course_id = token[1]\n",
    "    sec_id = token[2]\n",
    "    semester = token[3]\n",
    "    year = int(token[4])\n",
    "    \n",
    "    i_obi = instructordb.find_one({'ID': i_id})['_id']\n",
    "    sec_obi = sectiondb.find_one(\n",
    "        {'course_id': course_id, 'section_id': sec_id, 'semester': semester, 'year': year})['_id']\n",
    "\n",
    "    instructordb.update_many({'ID': i_id}, {'$push' : {'section_id': sec_obi}})"
   ]
  },
  {
   "cell_type": "code",
   "execution_count": 15,
   "metadata": {},
   "outputs": [],
   "source": [
    "cursor.execute(\"\"\"\n",
    "    select * from PREREQ\n",
    "\"\"\")\n",
    "\n",
    "for token in cursor:\n",
    "    course_id = token[0]\n",
    "    prereq_id = token[1]\n",
    "    \n",
    "    crse_obi = coursedb.find_one({'course_id': prereq_id})['_id']\n",
    "    \n",
    "    coursedb.update_many({'course_id': course_id}, {'$push' : {'prereq': crse_obi}})"
   ]
  },
  {
   "cell_type": "code",
   "execution_count": null,
   "metadata": {},
   "outputs": [],
   "source": []
  }
 ],
 "metadata": {
  "kernelspec": {
   "display_name": "Python 3",
   "language": "python",
   "name": "python3"
  },
  "language_info": {
   "codemirror_mode": {
    "name": "ipython",
    "version": 3
   },
   "file_extension": ".py",
   "mimetype": "text/x-python",
   "name": "python",
   "nbconvert_exporter": "python",
   "pygments_lexer": "ipython3",
   "version": "3.7.0"
  }
 },
 "nbformat": 4,
 "nbformat_minor": 2
}
